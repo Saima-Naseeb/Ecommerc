{
  "nbformat": 4,
  "nbformat_minor": 0,
  "metadata": {
    "colab": {
      "provenance": [],
      "authorship_tag": "ABX9TyO06x/bq2f5N1XHVKQW2nIf",
      "include_colab_link": true
    },
    "kernelspec": {
      "name": "python3",
      "display_name": "Python 3"
    },
    "language_info": {
      "name": "python"
    }
  },
  "cells": [
    {
      "cell_type": "markdown",
      "metadata": {
        "id": "view-in-github",
        "colab_type": "text"
      },
      "source": [
        "<a href=\"https://colab.research.google.com/github/Saima-Naseeb/Ecommerc/blob/main/Copy_of_Usergame.ipynb\" target=\"_parent\"><img src=\"https://colab.research.google.com/assets/colab-badge.svg\" alt=\"Open In Colab\"/></a>"
      ]
    },
    {
      "cell_type": "markdown",
      "source": [
        "#3 Project:Guess the user number Game in Python\n",
        "#Instructor:Hamzah Syed\n",
        "\n",
        "Import random\n",
        "Print(\"Guess the number between 1 and 100\")\n",
        "#generate a random number\n",
        "number=random.randint(1,100)\n",
        "\n",
        "\n",
        " Hamzah Syed\n",
        "\n",
        "Import random\n",
        "Print(\"Guess the number between 1 and 100\")\n",
        "#generate a random number\n",
        "number=random.randint(1,100)\n",
        "\n",
        "\n",
        "While true:\n",
        "   guess =int(input(\"Enter your guess number\"))\n",
        "   if guess > number:\n",
        "       print(\"Too low number !\")\n",
        "       elif guess > number:\n",
        "       print (\"Too high number!\")\n",
        "       else:\n",
        "       print (\"Congrats you got the right number!\")\n",
        "       break"
      ],
      "metadata": {
        "id": "_gtoRhajLVp_"
      }
    }
  ]
}