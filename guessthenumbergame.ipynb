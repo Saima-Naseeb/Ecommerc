{
  "nbformat": 4,
  "nbformat_minor": 0,
  "metadata": {
    "colab": {
      "provenance": [],
      "authorship_tag": "ABX9TyPNsPnFK5Fh3K3H97HxC4k3",
      "include_colab_link": true
    },
    "kernelspec": {
      "name": "python3",
      "display_name": "Python 3"
    },
    "language_info": {
      "name": "python"
    }
  },
  "cells": [
    {
      "cell_type": "markdown",
      "metadata": {
        "id": "view-in-github",
        "colab_type": "text"
      },
      "source": [
        "<a href=\"https://colab.research.google.com/github/Saima-Naseeb/Ecommerc/blob/main/guessthenumbergame.ipynb\" target=\"_parent\"><img src=\"https://colab.research.google.com/assets/colab-badge.svg\" alt=\"Open In Colab\"/></a>"
      ]
    },
    {
      "cell_type": "code",
      "execution_count": null,
      "metadata": {
        "id": "k0BkqVgbhJyo"
      },
      "outputs": [],
      "source": []
    },
    {
      "cell_type": "markdown",
      "source": [
        "#Project 2:Guess the number game in Python\n",
        "\n",
        "#1 to100 numbers\n",
        "\n",
        "\n",
        "import random\n",
        "def guess_th_number():\n",
        "\"\"\"Project 2:Guess the number game in python\"\"\"\n"
      ],
      "metadata": {
        "id": "JuF3zgeRhdDR"
      }
    },
    {
      "cell_type": "markdown",
      "source": [
        "# Project 2: Guess the number game in Python\n",
        "# 1-1000 numbers.\n",
        "\n",
        "def guess_the_number ():\n",
        "\"\"\"Project 2: Guess the number Game in Python by the Computer.\"\"\"\n",
        "   number =random.randint(1-100)\n",
        "   guess_left=7\n",
        "   #Welcome message\n",
        "   print(\"Welcome to the number guessing Game in Python\")\n",
        "   print(\"I am thinking a number between 1 to 100\")\n",
        "\n",
        "   #loop generated\n",
        "   while guess__left> 0 :\n",
        "      print(f\"\\nYou have {guesses_left}guesses left.:)\n",
        "      try:\n",
        "         guess =int(input(\"Take a guessing of another number.\"))\n",
        "      except ValueError:\n",
        "      print (\"invalid input:please enter a number.\")\n",
        "      continue\n",
        "\n",
        "    # guess the secrete number\n",
        "    if guess <number:\n",
        "        print(\"Too low number . Tell another !\")\n",
        "        elif guess > number:\n",
        "             print (\"Too high number. Tell another !\")\n",
        "          else:\n",
        "   print(f\"Congrats ! You got the correct number in {7-guesses_left +1} tries.\")\n",
        "             return\n",
        "\n",
        "        guessing_left -=1\n",
        "        #when all guessing will finish\n",
        "    print(f\"\\nYou ran out of guesses. The number was {number}.\")\n",
        "\n",
        "\n",
        "\n",
        "guessing_the_number()\n",
        "\n",
        "\n",
        "\n"
      ],
      "metadata": {
        "id": "J0LP9ObOt17T"
      }
    },
    {
      "cell_type": "markdown",
      "source": [],
      "metadata": {
        "id": "AmDz6h6FCHTA"
      }
    },
    {
      "cell_type": "markdown",
      "source": [],
      "metadata": {
        "id": "S91gztmiCBiT"
      }
    },
    {
      "cell_type": "code",
      "source": [],
      "metadata": {
        "id": "75pNFEYwCCW8"
      },
      "execution_count": null,
      "outputs": []
    },
    {
      "cell_type": "markdown",
      "source": [
        "\n"
      ],
      "metadata": {
        "id": "uA39viFbAFui"
      }
    }
  ]
}