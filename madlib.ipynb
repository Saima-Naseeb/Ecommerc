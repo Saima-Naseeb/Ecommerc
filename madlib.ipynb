{
  "nbformat": 4,
  "nbformat_minor": 0,
  "metadata": {
    "colab": {
      "provenance": [],
      "authorship_tag": "ABX9TyPc6k1ye063dLOBS3ptrxAb",
      "include_colab_link": true
    },
    "kernelspec": {
      "name": "python3",
      "display_name": "Python 3"
    },
    "language_info": {
      "name": "python"
    }
  },
  "cells": [
    {
      "cell_type": "markdown",
      "metadata": {
        "id": "view-in-github",
        "colab_type": "text"
      },
      "source": [
        "<a href=\"https://colab.research.google.com/github/Saima-Naseeb/Ecommerc/blob/main/madlib.ipynb\" target=\"_parent\"><img src=\"https://colab.research.google.com/assets/colab-badge.svg\" alt=\"Open In Colab\"/></a>"
      ]
    },
    {
      "cell_type": "code",
      "source": [
        "# user input\n",
        "name=input(\"Enter the student name\")\n",
        "Programing_languages=input(\"Python,Nextjs,htmal\")\n",
        "mentor_name=input(\"Enter the mentor name\")\n",
        "\n",
        "\n",
        "#story created\n",
        "print(f\"\\n Here is the story of my {name} learning journey of AI based on mad libs game\")\n",
        "print(f\"one day i decide to start my {name} learning AI {Programing_languages} offered by Sindh Governer\")\n",
        "print(f\"this journey started with mentor {mentor_name}\")\n",
        "print(\"And her journy started......!\")"
      ],
      "metadata": {
        "colab": {
          "base_uri": "https://localhost:8080/"
        },
        "id": "Yc6742PnOcWj",
        "outputId": "15df59ff-409b-4113-f80a-aa865673c0d0"
      },
      "execution_count": 2,
      "outputs": [
        {
          "output_type": "stream",
          "name": "stdout",
          "text": [
            "Enter the student namesaima\n",
            "Python,Nextjs,htmalpython\n",
            "Enter the mentor nameSyed Hamzah\n",
            "\n",
            " Here is the story of my saima learning journey of AI based on mad libs game\n",
            "one day i decide to start my saima learning AI python offered by Sindh Governer\n",
            "this journey started with mentor Syed Hamzah\n",
            "And her journy started......!\n"
          ]
        }
      ]
    },
    {
      "cell_type": "markdown",
      "source": [],
      "metadata": {
        "id": "rDqcG34wbeKd"
      }
    },
    {
      "cell_type": "markdown",
      "source": [
        "# Mad Libs Game In Python"
      ],
      "metadata": {
        "id": "RJ3K97s1OIpE"
      }
    }
  ]
}